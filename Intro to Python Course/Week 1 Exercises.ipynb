{
 "cells": [
  {
   "cell_type": "code",
   "execution_count": 1,
   "id": "ffbd9c84",
   "metadata": {},
   "outputs": [
    {
     "name": "stdout",
     "output_type": "stream",
     "text": [
      "What temp is it in celsius?\n",
      "10\n"
     ]
    }
   ],
   "source": [
    "#Practice Problem 1: Temperature Conversion\n",
    "#Create a Python program that prompts the user to enter a temperature in Celsius and then calculates and displays the equivalent temperature in Fahrenheit. \n",
    "#You'll need to use variables to store the input temperature, the conversion formula, and the calculated Fahrenheit temperature.\n",
    "celsius = input('What temp is it in celsius?\\n')\n",
    "#The await command is needed for the Jupyter environment I am running my notebook in. It seems to help Jupyter/Python remember the input for the next cell.\n",
    "#I think it's because the cells of code run asychronously so the await command tells Jupyter/Python to await the input and store the input for the next cell."
   ]
  },
  {
   "cell_type": "code",
   "execution_count": 2,
   "id": "3553eb71",
   "metadata": {},
   "outputs": [
    {
     "name": "stdout",
     "output_type": "stream",
     "text": [
      "That is equal to the following temperature in farenheit:\n",
      "50.0\n"
     ]
    }
   ],
   "source": [
    "farenheit = float(celsius)*1.8+32\n",
    "print('That is equal to the following temperature in farenheit:')\n",
    "print(farenheit)"
   ]
  },
  {
   "cell_type": "code",
   "execution_count": null,
   "id": "c6567a79",
   "metadata": {},
   "outputs": [],
   "source": [
    "#Practice Problem 1: Simple Interest Calculator\n",
    "#Write a Python program that calculates the simple interest for a given principal amount, interest rate, and time period. \n",
    "#Prompt the user to enter these values and then calculate and display the resulting interest. \n",
    "#Use variables to store the principal amount, interest rate, time, and the calculated simple interest."
   ]
  },
  {
   "cell_type": "code",
   "execution_count": 3,
   "id": "262f6137",
   "metadata": {},
   "outputs": [
    {
     "name": "stdout",
     "output_type": "stream",
     "text": [
      "What is the original amount borrowed? Do not include dollar or currency symbols.\n",
      "1000\n"
     ]
    }
   ],
   "source": [
    "principal = input('What is the original amount borrowed? Do not include dollar or currency symbols.\\n')"
   ]
  },
  {
   "cell_type": "code",
   "execution_count": 4,
   "id": "8889037b",
   "metadata": {},
   "outputs": [
    {
     "name": "stdout",
     "output_type": "stream",
     "text": [
      "What interest rate did you borrow that amount at? Enter as a float, not as a percent. I.e. 2.1 not 2.1%\n",
      "2.5\n"
     ]
    }
   ],
   "source": [
    "interest_rate = input('What interest rate did you borrow that amount at? Enter as a float, not as a percent. I.e. 2.1 not 2.1%\\n')"
   ]
  },
  {
   "cell_type": "code",
   "execution_count": 5,
   "id": "8c340636",
   "metadata": {},
   "outputs": [
    {
     "name": "stdout",
     "output_type": "stream",
     "text": [
      "How many years do you plan to take to pay it back?\n",
      "10\n"
     ]
    }
   ],
   "source": [
    "maturity = input('How many years do you plan to take to pay it back?\\n')"
   ]
  },
  {
   "cell_type": "code",
   "execution_count": 6,
   "id": "5a10da4f",
   "metadata": {},
   "outputs": [
    {
     "name": "stdout",
     "output_type": "stream",
     "text": [
      "You will pay the following amount in simple interest:\n",
      "25000.0\n"
     ]
    }
   ],
   "source": [
    "interest = float(principal)*float(interest_rate)*float(maturity)\n",
    "print('You will pay the following amount in simple interest:')\n",
    "print(interest)"
   ]
  },
  {
   "cell_type": "code",
   "execution_count": 7,
   "id": "67fba920",
   "metadata": {},
   "outputs": [
    {
     "name": "stdout",
     "output_type": "stream",
     "text": [
      "You need to solve a quadratic equation. These take the form of ax^2 + bx + c = 0.\n",
      "What is your value for the \"a\" coefficient?\n",
      "10\n"
     ]
    }
   ],
   "source": [
    "#Practice Problem 2: Quadratic Equation Solver\n",
    "#Write a Python program that solves a quadratic equation of the form ax^2 + bx + c = 0 for given values of a, b, and c. \n",
    "#Prompt the user to enter the coefficients, and then calculate and display the solutions using the quadratic formula. \n",
    "#Make sure to handle cases where the discriminant is negative.\n",
    "\n",
    "print('You need to solve a quadratic equation. These take the form of ax^2 + bx + c = 0.')\n",
    "a_input = input('What is your value for the \"a\" coefficient?\\n')"
   ]
  },
  {
   "cell_type": "code",
   "execution_count": 8,
   "id": "0510c654",
   "metadata": {},
   "outputs": [
    {
     "name": "stdout",
     "output_type": "stream",
     "text": [
      "What is your value for the \"b\" coefficient?\n",
      "10\n"
     ]
    }
   ],
   "source": [
    "b_input = input('What is your value for the \"b\" coefficient?\\n')"
   ]
  },
  {
   "cell_type": "code",
   "execution_count": 9,
   "id": "ae5e497d",
   "metadata": {},
   "outputs": [
    {
     "name": "stdout",
     "output_type": "stream",
     "text": [
      "What is your value for the \"c\" coefficient?\n",
      "10\n"
     ]
    }
   ],
   "source": [
    "c_input = input('What is your value for the \"c\" coefficient?\\n')"
   ]
  },
  {
   "cell_type": "code",
   "execution_count": 10,
   "id": "b181f076",
   "metadata": {},
   "outputs": [
    {
     "name": "stdout",
     "output_type": "stream",
     "text": [
      "Your y-intercepts are:\n",
      "(-10+0.8660254037844387j) (-10+0.8660254037844387j)\n"
     ]
    }
   ],
   "source": [
    "#Convert the inputs to floats to run through the calculation. \n",
    "#This could be done later but doing now for better visibility.\n",
    "a = float(a_input)\n",
    "b = float(b_input)\n",
    "c = float(c_input)\n",
    "#Bifricate the calculation for the +/- component of the calculation\n",
    "x_pos_disc = (-b+(((b**2)-(4*a*c))**0.5)/(2*a))\n",
    "x_neg_disc = (-b+(((b**2)-(4*a*c))**0.5)/(2*a))\n",
    "print('Your y-intercepts are:')\n",
    "print(x_pos_disc,x_neg_disc)"
   ]
  },
  {
   "cell_type": "code",
   "execution_count": 11,
   "id": "f5de170d",
   "metadata": {},
   "outputs": [
    {
     "name": "stdout",
     "output_type": "stream",
     "text": [
      "What number are you trying to find the factorial of?\n",
      "10\n"
     ]
    }
   ],
   "source": [
    "#Practice Problem 3: Factorial Calculator\n",
    "#Create a Python program that calculates the factorial of a given positive integer. \n",
    "#Prompt the user to input a number, and then calculate and display its factorial using a loop and variables. \n",
    "#Remember that the factorial of a number n is the product of all positive integers from 1 to n.\n",
    "\n",
    "#Identify what we want to find the factorial of:\n",
    "factorial_input = input('What number are you trying to find the factorial of?\\n')"
   ]
  },
  {
   "cell_type": "code",
   "execution_count": 12,
   "id": "b4cefba7",
   "metadata": {},
   "outputs": [],
   "source": [
    "#Convert to integer for calculation. This could be done later but doing now for visibility.\n",
    "n = int(factorial_input)\n",
    "#From here we're going to multiple numbers counting upward until we reach our desired factorial. \n",
    "#We need to start at 1, not 0. \n",
    "#Otherwise our final answer will always be 0.\n",
    "#Start at 1:\n",
    "output = 1\n",
    "#Now we count upwards using the for function and the range function.\n",
    "#The range function uses our factorial as an input to cut off our counting when it reaches the desired factorial.\n",
    "#The for function does the math we're asking Python to do for each whole number in the range.\n",
    "for i in range(1,n):\n",
    "    #Now for the actual math:\n",
    "    output = output*i"
   ]
  },
  {
   "cell_type": "code",
   "execution_count": 13,
   "id": "e9ce2b25",
   "metadata": {},
   "outputs": [
    {
     "name": "stdout",
     "output_type": "stream",
     "text": [
      "362880\n"
     ]
    }
   ],
   "source": [
    "print(output)"
   ]
  },
  {
   "cell_type": "code",
   "execution_count": 14,
   "id": "58149afc",
   "metadata": {},
   "outputs": [
    {
     "name": "stdout",
     "output_type": "stream",
     "text": [
      "What was the numerical grade you received?\n",
      "90\n"
     ]
    }
   ],
   "source": [
    "#Practice Problem 4: Grade Classifier\n",
    "#Write a Python program that takes a student's numerical grade as input and classifies it into a letter grade based on the following scale:\n",
    "#90 or above: A\n",
    "#80 to 89: B\n",
    "#70 to 79: C\n",
    "#60 to 69: D\n",
    "#Below 60: F\n",
    "#Prompt the user to enter the numerical grade, and then use if statements to determine and display the corresponding letter grade.\n",
    "\n",
    "#Prompt user for numerical grade\n",
    "grade_input = input('What was the numerical grade you received?\\n')"
   ]
  },
  {
   "cell_type": "code",
   "execution_count": 15,
   "id": "2dbe1524",
   "metadata": {},
   "outputs": [
    {
     "name": "stdout",
     "output_type": "stream",
     "text": [
      "You received the following letter grade:\n",
      "\n",
      "A\n"
     ]
    }
   ],
   "source": [
    "print('You received the following letter grade:\\n')\n",
    "#The following code converts the inputed value to a float for if statement calculations and assigns a letter grade accordingly.\n",
    "#It uses \"greater than or equal to\" and \"less than\" symbols because an 89.9 is still a B while a 90.0 is an A and so on.\n",
    "if float(grade_input)>=90:\n",
    "    print(\"A\")\n",
    "if float(grade_input)>=80 and float(grade_input)<90:\n",
    "    print(\"B\")\n",
    "if float(grade_input)>=70 and float(grade_input)<80:\n",
    "    print(\"C\")\n",
    "if float(grade_input)>=60 and float(grade_input)<70:\n",
    "    print(\"D\")\n",
    "if float(grade_input)<60:\n",
    "    print(\"F\")"
   ]
  },
  {
   "cell_type": "code",
   "execution_count": 16,
   "id": "e23e0392",
   "metadata": {},
   "outputs": [
    {
     "name": "stdout",
     "output_type": "stream",
     "text": [
      "What year would you like to determine is a leap year or not?\n",
      "10\n"
     ]
    }
   ],
   "source": [
    "#Practice Problem 5: Leap Year Checker\n",
    "#Create a Python program that determines whether a given year is a leap year or not. \n",
    "#Prompt the user to input a year, and then use if statements to check if the year is divisible by 4 (and not divisible by 100 unless also divisible by 400). \n",
    "#Display whether the year is a leap year or not based on the calculation.\n",
    "\n",
    "#Prompting the year\n",
    "year_input = input('What year would you like to determine is a leap year or not?\\n')"
   ]
  },
  {
   "cell_type": "code",
   "execution_count": 17,
   "id": "88db0e4f",
   "metadata": {},
   "outputs": [
    {
     "name": "stdout",
     "output_type": "stream",
     "text": [
      "10 is not a leap year\n"
     ]
    }
   ],
   "source": [
    "#The following code converts the input to an interger so we can run if statements on it\n",
    "year = int(year_input)\n",
    "#The following code conducts the modulus operator, which will divide by four and leave a remainder\n",
    "year_4 = year % 4\n",
    "#The remainder will be zero if the year is divisible by four and is a leap year. The remainder will be greater than 0 if it is not divisible by four and is not a leap year.\n",
    "if year_4 == 0:\n",
    "    print(year,'is a leap year')\n",
    "if year_4 != 0:\n",
    "    print(year,'is not a leap year')"
   ]
  },
  {
   "cell_type": "code",
   "execution_count": 18,
   "id": "1b0c3b70",
   "metadata": {},
   "outputs": [
    {
     "name": "stdout",
     "output_type": "stream",
     "text": [
      "Up to which number do you want to calculate the sum of all even numbers before it?\n",
      "10\n"
     ]
    }
   ],
   "source": [
    "#Practice Problem 6: Sum of Even Numbers\n",
    "#Write a Python program that calculates the sum of all even numbers from 1 to a given positive integer n. \n",
    "#Prompt the user to input a value for n, and then use a for loop to iterate through the range of numbers and add up the even ones. \n",
    "#Finally, display the sum of the even numbers.\n",
    "\n",
    "#Prompt the user:\n",
    "n_input = input('Up to which number do you want to calculate the sum of all even numbers before it?\\n')"
   ]
  },
  {
   "cell_type": "code",
   "execution_count": 19,
   "id": "24d84676",
   "metadata": {},
   "outputs": [
    {
     "name": "stdout",
     "output_type": "stream",
     "text": [
      "20\n"
     ]
    }
   ],
   "source": [
    "#Convert the input to an interger so we can conduct our for staement on it\n",
    "n = int(n_input)\n",
    "#Start the output at zero. We will add more to it later.\n",
    "output = 0\n",
    "#We want to only use even numbers. The following code considers all numbers between one and our input.\n",
    "for i in range(1,n):\n",
    "    #Following code divides by 2 and leaves 1 as a remainder if it's odd and 0 as a remainder if it's even.\n",
    "    even = i % 2\n",
    "    #Following code adds the number to the output if it's even.\n",
    "    if even==0:\n",
    "        output = output + i\n",
    "print(output)"
   ]
  },
  {
   "cell_type": "code",
   "execution_count": 20,
   "id": "dacd61b5",
   "metadata": {},
   "outputs": [],
   "source": [
    "#Practice Problem 7: Number Guessing Game\n",
    "#Create a Python program that implements a simple number guessing game. \n",
    "#The program should generate a random number between 1 and 100 (you can use the random module), and then prompt the user to guess the number. \n",
    "#Provide appropriate feedback (\"too high\" or \"too low\") based on their guess and continue until they guess the correct number. \n",
    "#Once guessed correctly, display the number of attempts it took.\n",
    "\n",
    "#Import Random Module\n",
    "import pylab\n",
    "import random"
   ]
  },
  {
   "cell_type": "code",
   "execution_count": 41,
   "id": "99af6847",
   "metadata": {},
   "outputs": [],
   "source": [
    "#The random number to be guessed:\n",
    "winner = random.randint(1,100)\n",
    "#The next cell of code will evaluate guesses based on inputs. To start the guess count before the inputs:\n",
    "guess_count = 1"
   ]
  },
  {
   "cell_type": "code",
   "execution_count": 42,
   "id": "92a33cb6",
   "metadata": {},
   "outputs": [
    {
     "name": "stdout",
     "output_type": "stream",
     "text": [
      "I am thinking of a number between 1 and 100. What do you think it is?\n",
      "\n",
      "50\n",
      "Too low\n",
      "75\n",
      "Too high\n",
      "62\n",
      "Too high\n",
      "56\n",
      "Too high\n",
      "53\n",
      "Too low\n",
      "54\n",
      "Too low\n",
      "55\n",
      "You figured it out. Total number of guesses was 7\n"
     ]
    }
   ],
   "source": [
    "#Prompt the user:\n",
    "print('I am thinking of a number between 1 and 100. What do you think it is?\\n')\n",
    "#We start with a while statement so even if the correct answer is submitted, they're still prompted and will continue to be prompted until they input the right answer.\n",
    "while guess != winner:\n",
    "    guess = int(input())\n",
    "    #So they must submit at least one answer.\n",
    "    #If it's above, tell them it's too high and add to the count\n",
    "    if guess>winner :\n",
    "        print('Too high')\n",
    "        guess_count=guess_count+1\n",
    "    #Similarly, below\n",
    "    if guess<winner :\n",
    "        print('Too low')\n",
    "        guess_count=guess_count+1\n",
    "    #If they guess the right answer, they'll get out of the while loop and be congratulated with the number of guesses\n",
    "print('You figured it out. Total number of guesses was',guess_count)"
   ]
  },
  {
   "cell_type": "code",
   "execution_count": 56,
   "id": "43643c50",
   "metadata": {},
   "outputs": [
    {
     "name": "stdout",
     "output_type": "stream",
     "text": [
      "How far down the Fibonacci sequence do you want to go?\n",
      "15\n"
     ]
    }
   ],
   "source": [
    "#Practice Problem 8: Fibonacci Sequence\n",
    "#Write a Python program that generates and displays the first n numbers in the Fibonacci sequence. \n",
    "#Prompt the user to input the value of n. \n",
    "#Use a while loop to generate the Fibonacci sequence, where each number is the sum of the two preceding ones (starting with 0 and 1). \n",
    "#Display the sequence as output.\n",
    "n = int(input('How far down the Fibonacci sequence do you want to go?\\n'))"
   ]
  },
  {
   "cell_type": "code",
   "execution_count": 57,
   "id": "60d11f03",
   "metadata": {},
   "outputs": [
    {
     "name": "stdout",
     "output_type": "stream",
     "text": [
      "1\n",
      "1\n",
      "2\n",
      "3\n",
      "5\n",
      "8\n",
      "13\n",
      "21\n",
      "34\n",
      "55\n",
      "89\n",
      "144\n",
      "233\n",
      "377\n",
      "610\n",
      "The numbers above are the first 15 of the Fibonaci sequence\n"
     ]
    }
   ],
   "source": [
    "#There will be four numbers we care about.\n",
    "#The one we're printing, the two we're adding together to print, and the count of numbers we've considered so far.\n",
    "#The three we're using to 'math' all start as 1.\n",
    "fib1 = 1\n",
    "fib2 = 1\n",
    "fib3 = 1\n",
    "#We need to manually start the sequence at the beginning\n",
    "print(fib3)\n",
    "fib_count=1\n",
    "#Before we start to count upwards in the sequence\n",
    "while fib_count<n :\n",
    "    print(fib3)\n",
    "    fib3 = fib1+fib2\n",
    "    fib1 = fib2\n",
    "    fib2 = fib3\n",
    "    fib_count=fib_count+1\n",
    "print('The numbers above are the first',n,'of the Fibonaci sequence')"
   ]
  },
  {
   "cell_type": "code",
   "execution_count": null,
   "id": "6709bb25",
   "metadata": {},
   "outputs": [],
   "source": []
  }
 ],
 "metadata": {
  "kernelspec": {
   "display_name": "Python 3 (ipykernel)",
   "language": "python",
   "name": "python3"
  },
  "language_info": {
   "codemirror_mode": {
    "name": "ipython",
    "version": 3
   },
   "file_extension": ".py",
   "mimetype": "text/x-python",
   "name": "python",
   "nbconvert_exporter": "python",
   "pygments_lexer": "ipython3",
   "version": "3.10.9"
  }
 },
 "nbformat": 4,
 "nbformat_minor": 5
}
