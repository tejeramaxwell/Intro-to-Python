{
 "cells": [
  {
   "cell_type": "code",
   "execution_count": null,
   "id": "146950a8",
   "metadata": {},
   "outputs": [],
   "source": [
    "#You have been given a text file named \"input.txt\" containing a list of names, one name per line. \n",
    "#Your task is to write a Python program that reads the contents of this file and performs the following operations:"
   ]
  },
  {
   "cell_type": "code",
   "execution_count": null,
   "id": "74fe5535",
   "metadata": {},
   "outputs": [],
   "source": [
    "#Question 1: How many names are there in the file \"input.txt\"?"
   ]
  },
  {
   "cell_type": "code",
   "execution_count": 3,
   "id": "77c948ef",
   "metadata": {},
   "outputs": [
    {
     "ename": "SyntaxError",
     "evalue": "invalid syntax (880267775.py, line 2)",
     "output_type": "error",
     "traceback": [
      "\u001b[1;36m  Cell \u001b[1;32mIn[3], line 2\u001b[1;36m\u001b[0m\n\u001b[1;33m    names = open(C:\\Users\\tejer\\OneDrive\\Desktop\\Intro to Python Course\\names,r)\u001b[0m\n\u001b[1;37m                  ^\u001b[0m\n\u001b[1;31mSyntaxError\u001b[0m\u001b[1;31m:\u001b[0m invalid syntax\n"
     ]
    }
   ],
   "source": [
    "#Renamed file from \"input.txt\" to \"names.txt\"\n",
    "names = open(,r)"
   ]
  },
  {
   "cell_type": "code",
   "execution_count": null,
   "id": "08442110",
   "metadata": {},
   "outputs": [],
   "source": []
  }
 ],
 "metadata": {
  "kernelspec": {
   "display_name": "Python 3 (ipykernel)",
   "language": "python",
   "name": "python3"
  },
  "language_info": {
   "codemirror_mode": {
    "name": "ipython",
    "version": 3
   },
   "file_extension": ".py",
   "mimetype": "text/x-python",
   "name": "python",
   "nbconvert_exporter": "python",
   "pygments_lexer": "ipython3",
   "version": "3.10.9"
  }
 },
 "nbformat": 4,
 "nbformat_minor": 5
}
