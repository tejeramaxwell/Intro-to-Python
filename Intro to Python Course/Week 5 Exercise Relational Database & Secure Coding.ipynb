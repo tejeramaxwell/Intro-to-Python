{
 "cells": [
  {
   "cell_type": "code",
   "execution_count": 1,
   "id": "6a32744a",
   "metadata": {},
   "outputs": [],
   "source": [
    "#Problem 1:\n",
    "#You are tasked with creating a simple SQLite database for a library's book catalog. You need to perform the following tasks:\n",
    "#Create a new SQLite database named \"library.db.\"\n",
    "#Create a table named \"books\" with the following columns:\n",
    "#id (integer, primary key)\n",
    "#title (text)\n",
    "#author (text)\n",
    "#published_year (integer)\n",
    "#copies_available (integer)\n",
    "#Insert three sample book records into the \"books\" table.\n",
    "#Update the number of copies available for one of the books to 5.\n",
    "#Count and display the total number of books in the catalog.\n",
    "#Commit all changes to the database."
   ]
  },
  {
   "cell_type": "code",
   "execution_count": 1,
   "id": "501787c1",
   "metadata": {},
   "outputs": [
    {
     "data": {
      "text/plain": [
       "<sqlite3.Cursor at 0x1cc2908e540>"
      ]
     },
     "execution_count": 1,
     "metadata": {},
     "output_type": "execute_result"
    }
   ],
   "source": [
    "#Start up SQLite and file path\n",
    "\n",
    "import  sqlite3\n",
    "con = sqlite3.connect('C:\\\\Users\\\\tejer\\\\test.sqlite')\n",
    "\n",
    "#Connect to database via cursor. Create my table and add variables / columns per the prompt.\n",
    "\n",
    "cur = con.cursor()\n",
    "cur.execute('''CREATE TABLE library (\n",
    "                book_id INTEGER PRIMARY KEY,\n",
    "                title TEXT,\n",
    "                author TEXT,\n",
    "                published_year INTEGER,\n",
    "                copies_available INTEGER)''')"
   ]
  },
  {
   "cell_type": "code",
   "execution_count": 2,
   "id": "97a02de6",
   "metadata": {},
   "outputs": [],
   "source": [
    "#Looks like we're talking to the database, let's commit our execute command.\n",
    "\n",
    "con.commit()"
   ]
  },
  {
   "cell_type": "code",
   "execution_count": 3,
   "id": "82b4d13d",
   "metadata": {},
   "outputs": [
    {
     "name": "stdout",
     "output_type": "stream",
     "text": [
      "The table 'library' exists in the database.\n"
     ]
    }
   ],
   "source": [
    "#Let's validate what we've done so far\n",
    "\n",
    "#SQLite database file path\n",
    "db_file = 'C:\\\\Users\\\\tejer\\\\test.sqlite'\n",
    "\n",
    "#Table name to check\n",
    "table_name = 'library'\n",
    "\n",
    "#Connect to the SQLite database\n",
    "con = sqlite3.connect(db_file)\n",
    "cur = con.cursor()\n",
    "\n",
    "#Check if the table exists in the database\n",
    "cur.execute(f\"PRAGMA table_info({table_name})\")\n",
    "table_info = cur.fetchall()\n",
    "\n",
    "if table_info:\n",
    "    print(f\"The table '{table_name}' exists in the database.\")\n",
    "else:\n",
    "    print(f\"The table '{table_name}' does not exist in the database.\")\n"
   ]
  },
  {
   "cell_type": "code",
   "execution_count": 4,
   "id": "93c80d7c",
   "metadata": {},
   "outputs": [
    {
     "data": {
      "text/plain": [
       "<sqlite3.Cursor at 0x1cc2908e740>"
      ]
     },
     "execution_count": 4,
     "metadata": {},
     "output_type": "execute_result"
    }
   ],
   "source": [
    "#Cool, the table exists. Now let's pivot to inserting book records.\n",
    "\n",
    "#Define the data to be inserted\n",
    "initial_books = [\n",
    "    (1, 'Frankenstein', 'Mary Shelley', 1818, 3),\n",
    "    (2, 'Pride and Prejudice', 'Jane Austen',1813, 25),\n",
    "    (3, 'The Hobbit', 'J.R.R. Tolkein', 1937, 40)\n",
    "]\n",
    "\n",
    "#Insert the data into the table\n",
    "cur.executemany(\"INSERT INTO library (book_id, title, author, published_year, copies_available) VALUES (?, ?, ?, ?, ?)\", initial_books)"
   ]
  },
  {
   "cell_type": "code",
   "execution_count": 5,
   "id": "b579f666",
   "metadata": {},
   "outputs": [],
   "source": [
    "#Seems to have read the commands. Let's commit.\n",
    "\n",
    "con.commit()"
   ]
  },
  {
   "cell_type": "code",
   "execution_count": 6,
   "id": "f72bc69b",
   "metadata": {},
   "outputs": [
    {
     "name": "stdout",
     "output_type": "stream",
     "text": [
      "(1, 'Frankenstein', 'Mary Shelley', 1818, 3)\n",
      "(2, 'Pride and Prejudice', 'Jane Austen', 1813, 25)\n",
      "(3, 'The Hobbit', 'J.R.R. Tolkein', 1937, 40)\n"
     ]
    }
   ],
   "source": [
    "#Let's verify our results:\n",
    "\n",
    "#Call on the library database\n",
    "cur.execute(\"SELECT * FROM library\")\n",
    "\n",
    "#Fetch all rows as a list of tuples\n",
    "rows = cur.fetchall()\n",
    "\n",
    "#Print the rows\n",
    "for row in rows:\n",
    "    print(row)"
   ]
  },
  {
   "cell_type": "code",
   "execution_count": 7,
   "id": "6ea99751",
   "metadata": {},
   "outputs": [
    {
     "data": {
      "text/plain": [
       "<sqlite3.Cursor at 0x1cc2908e740>"
      ]
     },
     "execution_count": 7,
     "metadata": {},
     "output_type": "execute_result"
    }
   ],
   "source": [
    "#There it is. Let's update the copies available now.\n",
    "\n",
    "#Define the new data for the update\n",
    "new_copies_available = 5\n",
    "\n",
    "#Identify the record to update\n",
    "id_to_update = 1\n",
    "\n",
    "# Update the record\n",
    "cur.execute(\"UPDATE library SET copies_available=? WHERE book_id=?\", (new_copies_available, id_to_update))"
   ]
  },
  {
   "cell_type": "code",
   "execution_count": 8,
   "id": "da387033",
   "metadata": {},
   "outputs": [],
   "source": [
    "#Python seemed to like that command. Let's commit.\n",
    "\n",
    "con.commit()"
   ]
  },
  {
   "cell_type": "code",
   "execution_count": 9,
   "id": "bf0706b8",
   "metadata": {},
   "outputs": [
    {
     "name": "stdout",
     "output_type": "stream",
     "text": [
      "(1, 'Frankenstein', 'Mary Shelley', 1818, 5)\n",
      "(2, 'Pride and Prejudice', 'Jane Austen', 1813, 25)\n",
      "(3, 'The Hobbit', 'J.R.R. Tolkein', 1937, 40)\n"
     ]
    }
   ],
   "source": [
    "#Now let's verify by running the same code in the earlier block.\n",
    "\n",
    "cur.execute(\"SELECT * FROM library\")\n",
    "rows = cur.fetchall()\n",
    "for row in rows:\n",
    "    print(row)"
   ]
  },
  {
   "cell_type": "code",
   "execution_count": 10,
   "id": "3fd36e89",
   "metadata": {},
   "outputs": [
    {
     "name": "stdout",
     "output_type": "stream",
     "text": [
      "Total copies_available: 70\n"
     ]
    }
   ],
   "source": [
    "#Nice, Frankenstein is now showing 5 copies available. Let's count our total copies available in the database now.\n",
    "\n",
    "#Identify which column we want to sum up\n",
    "column_name = 'copies_available'\n",
    "\n",
    "#Execute a SUM query to count the number of rows in the table\n",
    "cur.execute(f\"SELECT SUM({column_name}) FROM library\")\n",
    "\n",
    "#Reference the zero row that is holding the sum from the prior command before printing\n",
    "total = cur.fetchone()[0]\n",
    "print(f\"Total {column_name}: {total}\")"
   ]
  },
  {
   "cell_type": "code",
   "execution_count": 11,
   "id": "eab25fce",
   "metadata": {},
   "outputs": [],
   "source": [
    "#Success. On to the next question."
   ]
  },
  {
   "cell_type": "code",
   "execution_count": 12,
   "id": "64b9f94c",
   "metadata": {},
   "outputs": [],
   "source": [
    "#Problem 2:\n",
    "#You have successfully created the \"library.db\" database and populated it with the initial sample book data. Now, you need to perform the following tasks:\n",
    "#Add the following books to the \"books\" table:\n",
    "#Title: \"The Great Gatsby,\" Author: \"F. Scott Fitzgerald,\" Published Year: 1925, Copies Available: 3\n",
    "#Title: \"To Kill a Mockingbird,\" Author: \"Harper Lee,\" Published Year: 1960, Copies Available: 4\n",
    "#Title: \"1984,\" Author: \"George Orwell,\" Published Year: 1949, Copies Available: 6\n",
    "#Retrieve and display the titles of all books published before the year 2000.\n",
    "#Update the number of copies available for \"1984\" to 7.\n",
    "#Delete the book with the title \"Pride and Prejudice\" from the catalog.\n",
    "#Calculate and display the average published year for all books in the catalog.\n",
    "#Commit all changes to the database."
   ]
  },
  {
   "cell_type": "code",
   "execution_count": 13,
   "id": "3f2454b4",
   "metadata": {},
   "outputs": [
    {
     "data": {
      "text/plain": [
       "<sqlite3.Cursor at 0x1cc2908e740>"
      ]
     },
     "execution_count": 13,
     "metadata": {},
     "output_type": "execute_result"
    }
   ],
   "source": [
    "#Let's add to our table using a similar set of commands from the prior question:\n",
    "#Need to increase the ID count.\n",
    "\n",
    "secondary_books = [\n",
    "    (4, 'The Great Gatsby', 'F. Scott Fitzgerald', 1925, 3),\n",
    "    (5, 'To Kill A Mockingbird', 'Harper Lee', 1960, 4),\n",
    "    (6, '1984', 'George Orwell', 1949, 6)\n",
    "]\n",
    "\n",
    "#Insert the data into the table\n",
    "cur.executemany(\"INSERT INTO library (book_id, title, author, published_year, copies_available) VALUES (?, ?, ?, ?, ?)\", secondary_books)"
   ]
  },
  {
   "cell_type": "code",
   "execution_count": 14,
   "id": "e788b570",
   "metadata": {},
   "outputs": [],
   "source": [
    "#That worked, let's commit.\n",
    "\n",
    "con.commit()"
   ]
  },
  {
   "cell_type": "code",
   "execution_count": 15,
   "id": "a3c2ec81",
   "metadata": {},
   "outputs": [
    {
     "name": "stdout",
     "output_type": "stream",
     "text": [
      "(1, 'Frankenstein', 'Mary Shelley', 1818, 5)\n",
      "(2, 'Pride and Prejudice', 'Jane Austen', 1813, 25)\n",
      "(3, 'The Hobbit', 'J.R.R. Tolkein', 1937, 40)\n",
      "(4, 'The Great Gatsby', 'F. Scott Fitzgerald', 1925, 3)\n",
      "(5, 'To Kill A Mockingbird', 'Harper Lee', 1960, 4)\n",
      "(6, '1984', 'George Orwell', 1949, 6)\n"
     ]
    }
   ],
   "source": [
    "#Let's verify:\n",
    "\n",
    "cur.execute(\"SELECT * FROM library\")\n",
    "rows = cur.fetchall()\n",
    "for row in rows:\n",
    "    print(row)"
   ]
  },
  {
   "cell_type": "code",
   "execution_count": 16,
   "id": "b980f36b",
   "metadata": {},
   "outputs": [
    {
     "data": {
      "text/plain": [
       "<sqlite3.Cursor at 0x1cc2908e740>"
      ]
     },
     "execution_count": 16,
     "metadata": {},
     "output_type": "execute_result"
    }
   ],
   "source": [
    "#It's all there. Now let's delete the record of Pride and Prejudice. Let's try to do it referencing the specific title.\n",
    "\n",
    "delete_title = 'Pride and Prejudice'\n",
    "cur.execute(f\"DELETE FROM library WHERE title = ?\", (delete_title,))"
   ]
  },
  {
   "cell_type": "code",
   "execution_count": 17,
   "id": "83993942",
   "metadata": {},
   "outputs": [
    {
     "name": "stdout",
     "output_type": "stream",
     "text": [
      "(1, 'Frankenstein', 'Mary Shelley', 1818, 5)\n",
      "(3, 'The Hobbit', 'J.R.R. Tolkein', 1937, 40)\n",
      "(4, 'The Great Gatsby', 'F. Scott Fitzgerald', 1925, 3)\n",
      "(5, 'To Kill A Mockingbird', 'Harper Lee', 1960, 4)\n",
      "(6, '1984', 'George Orwell', 1949, 6)\n"
     ]
    }
   ],
   "source": [
    "#Let's commit and verify\n",
    "\n",
    "con.commit()\n",
    "cur.execute(\"SELECT * FROM library\")\n",
    "rows = cur.fetchall()\n",
    "for row in rows:\n",
    "    print(row)"
   ]
  },
  {
   "cell_type": "code",
   "execution_count": 18,
   "id": "29360283",
   "metadata": {},
   "outputs": [
    {
     "name": "stdout",
     "output_type": "stream",
     "text": [
      "('Frankenstein',)\n"
     ]
    }
   ],
   "source": [
    "#Pride and Prejudice is gone - success.\n",
    "#Unfortunately, all the books in the library are pre-2000. So let's do the question in the prompt but with an ealier date.\n",
    "\n",
    "#Define date\n",
    "\n",
    "year_1900 = 1900\n",
    "\n",
    "#Execute a SELECT query to fetch specific title from records with date below the specified date\n",
    "cur.execute(\"SELECT title FROM library WHERE published_year < ?\", (year_1900,))\n",
    "below_1900_rows = cur.fetchall()\n",
    "for row in below_1900_rows:\n",
    "    print(row)"
   ]
  },
  {
   "cell_type": "code",
   "execution_count": 19,
   "id": "b3cb550d",
   "metadata": {},
   "outputs": [
    {
     "name": "stdout",
     "output_type": "stream",
     "text": [
      "Average published_year: 1917.8\n"
     ]
    }
   ],
   "source": [
    "#Now let's pull the average published date through a similar process.\n",
    "\n",
    "cur.execute(f\"SELECT AVG(published_year) FROM library\")\n",
    "average = cur.fetchone()[0]\n",
    "print(f\"Average published_year: {average}\")"
   ]
  },
  {
   "cell_type": "code",
   "execution_count": 20,
   "id": "fa6ade73",
   "metadata": {},
   "outputs": [
    {
     "data": {
      "text/plain": [
       "<sqlite3.Cursor at 0x1cc2908e740>"
      ]
     },
     "execution_count": 20,
     "metadata": {},
     "output_type": "execute_result"
    }
   ],
   "source": [
    "#Finally let's updat the number of copies of 1984 to 7. Let's use the book title instead of ID this time.\n",
    "\n",
    "new_copies_available = 7\n",
    "cur.execute(\"UPDATE library SET copies_available=? WHERE title=?\", (new_copies_available, '1984'))"
   ]
  },
  {
   "cell_type": "code",
   "execution_count": 21,
   "id": "4348f32c",
   "metadata": {},
   "outputs": [
    {
     "name": "stdout",
     "output_type": "stream",
     "text": [
      "(1, 'Frankenstein', 'Mary Shelley', 1818, 5)\n",
      "(3, 'The Hobbit', 'J.R.R. Tolkein', 1937, 40)\n",
      "(4, 'The Great Gatsby', 'F. Scott Fitzgerald', 1925, 3)\n",
      "(5, 'To Kill A Mockingbird', 'Harper Lee', 1960, 4)\n",
      "(6, '1984', 'George Orwell', 1949, 7)\n"
     ]
    }
   ],
   "source": [
    "#Committ and verify:\n",
    "\n",
    "con.commit()\n",
    "cur.execute(\"SELECT * FROM library\")\n",
    "rows = cur.fetchall()\n",
    "for row in rows:\n",
    "    print(row)"
   ]
  },
  {
   "cell_type": "code",
   "execution_count": 22,
   "id": "bd9b8dc1",
   "metadata": {},
   "outputs": [],
   "source": [
    "#Great, on to the third question.\n",
    "#Problem 3: You have been working with the \"library.db\" database, which contains information about books in a library. Now, you need to perform tasks related to data types and storage classes:\n",
    "#Create a new table named \"library_members\" with the following columns:\n",
    "#member_id (integer, primary key)\n",
    "#member_name (text)\n",
    "#member_email (text)\n",
    "#membership_date (date)\n",
    "#Insert two sample library member records into the \"library_members\" table. Ensure you provide values for all columns, \n",
    "#including membership_date, which should be in the 'YYYY-MM-DD' format.\n",
    "#Create a table named \"loans\" to track books that are checked out by members. This table should have the following columns:\n",
    "#loan_id (integer, primary key)\n",
    "#book_id (integer, foreign key referencing \"books\" table)\n",
    "#member_id (integer, foreign key referencing \"library_members\" table)\n",
    "#loan_date (date)\n",
    "#due_date (date)\n",
    "#Insert a sample loan record into the \"loans\" table. \n",
    "#Assume a book with ID 1 is checked out by a member with ID 1, and set the loan date and due date accordingly.\n",
    "#Retrieve and display the names and email addresses of all library members who have borrowed books.\n",
    "#Calculate and display the total number of books currently checked out.\n",
    "#Commit all changes to the database."
   ]
  },
  {
   "cell_type": "code",
   "execution_count": 23,
   "id": "a425264a",
   "metadata": {},
   "outputs": [
    {
     "name": "stdout",
     "output_type": "stream",
     "text": [
      "The table 'library_members' exists in the database.\n"
     ]
    }
   ],
   "source": [
    "#Add a new table called \"library_members\"\n",
    "\n",
    "cur.execute('''CREATE TABLE library_members (\n",
    "                member_id INTEGER PRIMARY KEY,\n",
    "                member_name TEXT,\n",
    "                member_email TEXT,\n",
    "                member_date DATE)''')\n",
    "\n",
    "table_name = 'library_members'\n",
    "\n",
    "#Connect to the SQLite database\n",
    "con = sqlite3.connect(db_file)\n",
    "cur = con.cursor()\n",
    "\n",
    "#Check if the table exists in the database\n",
    "cur.execute(f\"PRAGMA table_info({table_name})\")\n",
    "table_info = cur.fetchall()\n",
    "\n",
    "if table_info:\n",
    "    print(f\"The table '{table_name}' exists in the database.\")\n",
    "else:\n",
    "    print(f\"The table '{table_name}' does not exist in the database.\")"
   ]
  },
  {
   "cell_type": "code",
   "execution_count": 24,
   "id": "28c9ff92",
   "metadata": {},
   "outputs": [],
   "source": [
    "#Looks like we're talking to the database, let's commit our execute command.\n",
    "\n",
    "con.commit()"
   ]
  },
  {
   "cell_type": "code",
   "execution_count": 25,
   "id": "d0bbd7d1",
   "metadata": {},
   "outputs": [
    {
     "data": {
      "text/plain": [
       "<sqlite3.Cursor at 0x1cc2908ec40>"
      ]
     },
     "execution_count": 25,
     "metadata": {},
     "output_type": "execute_result"
    }
   ],
   "source": [
    "#Define the data to be inserted\n",
    "\n",
    "initial_members = [\n",
    "    (1, 'Maxwell Tejera', 'tejeramaxwell@gmail.com', '2023-09-23'),\n",
    "    (2, 'Dawn Gregg', 'dawn.gregg@ucdenver.edu', '2023-09-23'),\n",
    "]\n",
    "\n",
    "#Insert the data into the table\n",
    "cur.executemany(\"INSERT INTO library_members (member_id, member_name, member_email, member_date) VALUES (?, ?, ?, ?)\", initial_members)"
   ]
  },
  {
   "cell_type": "code",
   "execution_count": 26,
   "id": "8fd9bc06",
   "metadata": {},
   "outputs": [],
   "source": [
    "#Looks like we're talking to the database, let's commit our execute command.\n",
    "\n",
    "con.commit()"
   ]
  },
  {
   "cell_type": "code",
   "execution_count": 27,
   "id": "ffffaf54",
   "metadata": {},
   "outputs": [
    {
     "name": "stdout",
     "output_type": "stream",
     "text": [
      "(1, 'Maxwell Tejera', 'tejeramaxwell@gmail.com', '2023-09-23')\n",
      "(2, 'Dawn Gregg', 'dawn.gregg@ucdenver.edu', '2023-09-23')\n"
     ]
    }
   ],
   "source": [
    "#Let's verify\n",
    "\n",
    "cur.execute(\"SELECT * FROM library_members\")\n",
    "rows = cur.fetchall()\n",
    "for row in rows:\n",
    "    print(row)"
   ]
  },
  {
   "cell_type": "code",
   "execution_count": 36,
   "id": "18da7a45",
   "metadata": {},
   "outputs": [
    {
     "name": "stdout",
     "output_type": "stream",
     "text": [
      "The table 'loans' exists in the database.\n"
     ]
    }
   ],
   "source": [
    "#Add a new table called \"loans\"\n",
    "#loan_id (integer, primary key)\n",
    "#book_id (integer, foreign key referencing \"books\" table)\n",
    "#member_id (integer, foreign key referencing \"library_members\" table)\n",
    "#loan_date (date)\n",
    "#due_date (date)\n",
    "\n",
    "cur.execute('''CREATE TABLE loans (\n",
    "                loan_id INTEGER PRIMARY KEY,\n",
    "                due_date DATE,\n",
    "                loan_date DATE,\n",
    "                book_id INTEGER,\n",
    "                member_id INTEGER,\n",
    "                FOREIGN KEY(member_id) REFERENCES library_members(member_id),\n",
    "                FOREIGN KEY(book_id) REFERENCES library(book_id)\n",
    "                )''')\n",
    "\n",
    "\n",
    "table_name = 'loans'\n",
    "\n",
    "#Connect to the SQLite database\n",
    "con = sqlite3.connect(db_file)\n",
    "cur = con.cursor()\n",
    "\n",
    "#Check if the table exists in the database\n",
    "cur.execute(f\"PRAGMA table_info({table_name})\")\n",
    "table_info = cur.fetchall()\n",
    "\n",
    "if table_info:\n",
    "    print(f\"The table '{table_name}' exists in the database.\")\n",
    "else:\n",
    "    print(f\"The table '{table_name}' does not exist in the database.\")"
   ]
  },
  {
   "cell_type": "code",
   "execution_count": 37,
   "id": "ba63280d",
   "metadata": {},
   "outputs": [],
   "source": [
    "con.commit()"
   ]
  },
  {
   "cell_type": "code",
   "execution_count": 39,
   "id": "9270afdd",
   "metadata": {},
   "outputs": [
    {
     "data": {
      "text/plain": [
       "<sqlite3.Cursor at 0x1cc2ad1ca40>"
      ]
     },
     "execution_count": 39,
     "metadata": {},
     "output_type": "execute_result"
    }
   ],
   "source": [
    "#Insert a sample loan record into the \"loans\" table. \n",
    "#Assume a book with ID 1 is checked out by a member with ID 1, and set the loan date and due date accordingly.\n",
    "\n",
    "test_loan = [\n",
    "    (1, '2023-10-05', '2023-09-23', 1, 1,),\n",
    "]\n",
    "\n",
    "#Insert the data into the table\n",
    "cur.executemany(\"INSERT INTO loans (loan_id, due_date, loan_date, book_id, member_id) VALUES (?, ?, ?, ?, ?)\", test_loan)"
   ]
  },
  {
   "cell_type": "code",
   "execution_count": 41,
   "id": "2dee1a43",
   "metadata": {},
   "outputs": [],
   "source": [
    "con.commit()"
   ]
  },
  {
   "cell_type": "code",
   "execution_count": 44,
   "id": "363b6465",
   "metadata": {},
   "outputs": [
    {
     "name": "stdout",
     "output_type": "stream",
     "text": [
      "Member ID: 1, Member Name: Maxwell Tejera, Member Email: tejeramaxwell@gmail.com\n"
     ]
    }
   ],
   "source": [
    "#Retrieve and display the names and email addresses of all library members who have borrowed books.\n",
    "#Commit all changes to the database.\n",
    "\n",
    "#Execute initial query\n",
    "cur.execute(\"SELECT member_id FROM loans\")\n",
    "\n",
    "#Fetch results\n",
    "\n",
    "members_loaned = cur.fetchall()\n",
    "\n",
    "#Run loop through all member_ids in loans to query the member contact info in the library_members\n",
    "\n",
    "for member_id in members_loaned:\n",
    "    cur.execute(\"SELECT member_name, member_email FROM library_members WHERE member_id = ?\", (member_id[0],))\n",
    "    member_contact = cur.fetchone()\n",
    "    if member_contact:\n",
    "        member_name, member_email = member_contact\n",
    "        print(f\"Member ID: {member_id[0]}, Member Name: {member_name}, Member Email: {member_email}\")"
   ]
  },
  {
   "cell_type": "code",
   "execution_count": 46,
   "id": "14898649",
   "metadata": {},
   "outputs": [
    {
     "name": "stdout",
     "output_type": "stream",
     "text": [
      "1\n"
     ]
    }
   ],
   "source": [
    "#Calculate and display the total number of books currently checked out.\n",
    "\n",
    "#Similar to before but we'll need to count\n",
    "#Initial query\n",
    "\n",
    "cur.execute(\"SELECT book_id FROM loans\")\n",
    "\n",
    "#Fetch results\n",
    "\n",
    "books_loaned = cur.fetchall()\n",
    "\n",
    "#Calculate and count\n",
    "\n",
    "books_loaned_count = 0\n",
    "for book_id in books_loaned:\n",
    "    books_loaned_count = books_loaned_count + 1\n",
    "    \n",
    "print(books_loaned_count)"
   ]
  },
  {
   "cell_type": "code",
   "execution_count": null,
   "id": "7cdbde7a",
   "metadata": {},
   "outputs": [],
   "source": [
    "#Success. On to next question.\n",
    "#Problem 4: You are tasked with implementing a parameterized query to retrieve information from your library database. Specifically:\n",
    "#Write a Python script that prompts the user to enter the name of a book author.\n",
    "#Use a parameterized query to retrieve and display the titles of all books in the \"books\" table written by the author entered by the user.\n",
    "#Ensure that your parameterized query is properly sanitized to prevent SQL injection.\n",
    "#Test your script by entering the name of an author in the prompt and displaying the book titles."
   ]
  },
  {
   "cell_type": "code",
   "execution_count": 48,
   "id": "3fd45d7f",
   "metadata": {},
   "outputs": [
    {
     "name": "stdout",
     "output_type": "stream",
     "text": [
      "What is the name of the author you are looking up?\n",
      "Mary Shelley\n",
      "('Frankenstein',)\n"
     ]
    }
   ],
   "source": [
    "#Prompt user\n",
    "\n",
    "query_author = input('What is the name of the author you are looking up?\\n')\n",
    "\n",
    "#Lookup titles. Note the ? to protect against injection.\n",
    "cur.execute(\"SELECT title FROM library WHERE author = ?\", (query_author,))\n",
    "query_author_titles = cur.fetchall()\n",
    "\n",
    "#Print all matches\n",
    "for book in query_author_titles:\n",
    "    print(book)"
   ]
  },
  {
   "cell_type": "code",
   "execution_count": null,
   "id": "e20965be",
   "metadata": {},
   "outputs": [],
   "source": [
    "#Success. Next problem.\n",
    "#Problem 5: You are tasked with writing a Python function for a simple calculator that performs addition, \n",
    "#subtraction, multiplication, and division. However, you need to ensure the function is robust and handles potential issues\n",
    "#Write a function named calculate that takes three arguments: num1 (a number), num2 (a number), \n",
    "#and operator (a string representing the operation: \"+\", \"-\", \"*\", or \"/\").\n",
    "#Use assertions to check the following conditions:\n",
    "#Ensure that num1 and num2 are both numeric values (int or float).\n",
    "#Ensure that operator is one of the allowed operations: \"+\", \"-\", \"*\", or \"/\".\n",
    "#Ensure that division by zero is not attempted (for the division operation).\n",
    "#Implement the calculator functionality based on the provided operator:\n",
    "#Addition: Return the result of adding num1 and num2.\n",
    "#Subtraction: Return the result of subtracting num2 from num1.\n",
    "#Multiplication: Return the result of multiplying num1 and num2.\n",
    "#Division: Return the result of dividing num1 by num2.\n",
    "#Handle any potential exceptions that may arise, such as division by zero or invalid input, and return an appropriate error \n",
    "#Test your function by calling it with various numeric values and operators, including cases that may trigger assertions \n",
    "#or exceptions."
   ]
  },
  {
   "cell_type": "code",
   "execution_count": null,
   "id": "f552b5f5",
   "metadata": {},
   "outputs": [],
   "source": []
  },
  {
   "cell_type": "code",
   "execution_count": 60,
   "id": "aae1f8d9",
   "metadata": {},
   "outputs": [
    {
     "name": "stdout",
     "output_type": "stream",
     "text": [
      "First number\n",
      "2\n",
      "Second number\n",
      "2\n",
      "Operator - Choose either:\n",
      "+ \n",
      "- \n",
      "* \n",
      "/ \n",
      "+\n"
     ]
    },
    {
     "data": {
      "text/plain": [
       "4.0"
      ]
     },
     "execution_count": 60,
     "metadata": {},
     "output_type": "execute_result"
    }
   ],
   "source": [
    "#Now we need to define our function. It will run a different formula depending on the operator.\n",
    "#This could be done through a series of IF statements to use a different equation for each operator.\n",
    "\n",
    "def calculate(num1, num2, operator):\n",
    "    if operator == '+':\n",
    "        return num1 + num2\n",
    "    elif operator == '-':\n",
    "        return num2 - num1\n",
    "    elif operator == '*':\n",
    "        return num1 * num2\n",
    "    elif operator == '/':\n",
    "        if num2 != 0:\n",
    "            return num1 / num2\n",
    "        else:\n",
    "            return \"Division by zero is not allowed\"\n",
    "    else:\n",
    "        return \"Invalid operator\"\n",
    "\n",
    "#Take inputs: two numbers and an operator.\n",
    "\n",
    "num1 = float(input('First number\\n'))\n",
    "num2 = float(input('Second number\\n'))\n",
    "operator = input('Operator - Choose either:\\n+ \\n- \\n* \\n/ \\n')\n",
    "    \n",
    "calculate(num1,num2,operator)"
   ]
  },
  {
   "cell_type": "code",
   "execution_count": 58,
   "id": "56991fc0",
   "metadata": {},
   "outputs": [
    {
     "name": "stdout",
     "output_type": "stream",
     "text": [
      "First number\n",
      "a\n"
     ]
    },
    {
     "ename": "ValueError",
     "evalue": "could not convert string to float: 'a'",
     "output_type": "error",
     "traceback": [
      "\u001b[1;31m---------------------------------------------------------------------------\u001b[0m",
      "\u001b[1;31mValueError\u001b[0m                                Traceback (most recent call last)",
      "Cell \u001b[1;32mIn[58], line 2\u001b[0m\n\u001b[0;32m      1\u001b[0m \u001b[38;5;66;03m#Let's test with string inputs:\u001b[39;00m\n\u001b[1;32m----> 2\u001b[0m num1 \u001b[38;5;241m=\u001b[39m \u001b[38;5;28;43mfloat\u001b[39;49m\u001b[43m(\u001b[49m\u001b[38;5;28;43minput\u001b[39;49m\u001b[43m(\u001b[49m\u001b[38;5;124;43m'\u001b[39;49m\u001b[38;5;124;43mFirst number\u001b[39;49m\u001b[38;5;130;43;01m\\n\u001b[39;49;00m\u001b[38;5;124;43m'\u001b[39;49m\u001b[43m)\u001b[49m\u001b[43m)\u001b[49m\n\u001b[0;32m      3\u001b[0m num2 \u001b[38;5;241m=\u001b[39m \u001b[38;5;28mfloat\u001b[39m(\u001b[38;5;28minput\u001b[39m(\u001b[38;5;124m'\u001b[39m\u001b[38;5;124mSecond number\u001b[39m\u001b[38;5;130;01m\\n\u001b[39;00m\u001b[38;5;124m'\u001b[39m))\n\u001b[0;32m      4\u001b[0m operator \u001b[38;5;241m=\u001b[39m \u001b[38;5;28minput\u001b[39m(\u001b[38;5;124m'\u001b[39m\u001b[38;5;124mOperator - Choose either:\u001b[39m\u001b[38;5;130;01m\\n\u001b[39;00m\u001b[38;5;124m + \u001b[39m\u001b[38;5;130;01m\\n\u001b[39;00m\u001b[38;5;124m - \u001b[39m\u001b[38;5;130;01m\\n\u001b[39;00m\u001b[38;5;124m * \u001b[39m\u001b[38;5;130;01m\\n\u001b[39;00m\u001b[38;5;124m / \u001b[39m\u001b[38;5;130;01m\\n\u001b[39;00m\u001b[38;5;124m'\u001b[39m)\n",
      "\u001b[1;31mValueError\u001b[0m: could not convert string to float: 'a'"
     ]
    }
   ],
   "source": [
    "#Let's test with string inputs:\n",
    "num1 = float(input('First number\\n'))\n",
    "num2 = float(input('Second number\\n'))\n",
    "operator = input('Operator - Choose either:\\n + \\n - \\n * \\n / \\n')\n",
    "    \n",
    "calculate(num1,num2,operator)"
   ]
  },
  {
   "cell_type": "code",
   "execution_count": 59,
   "id": "716db1cd",
   "metadata": {},
   "outputs": [
    {
     "name": "stdout",
     "output_type": "stream",
     "text": [
      "First number\n",
      "5\n",
      "Second number\n",
      "0\n",
      "Operator - Choose either:\n",
      " + \n",
      " - \n",
      " * \n",
      " / \n",
      "/\n"
     ]
    },
    {
     "data": {
      "text/plain": [
       "'Division by zero is not allowed'"
      ]
     },
     "execution_count": 59,
     "metadata": {},
     "output_type": "execute_result"
    }
   ],
   "source": [
    "#Let's try dividing by zero\n",
    "\n",
    "num1 = float(input('First number\\n'))\n",
    "num2 = float(input('Second number\\n'))\n",
    "operator = input('Operator - Choose either:\\n + \\n - \\n * \\n / \\n')\n",
    "    \n",
    "calculate(num1,num2,operator)"
   ]
  },
  {
   "cell_type": "code",
   "execution_count": 61,
   "id": "594785a2",
   "metadata": {},
   "outputs": [],
   "source": [
    "#Seems to work.\n",
    "#Problem 6: You are creating a simple program that asks the user for their age. \n",
    "#You want to ensure that the age entered is a positive integer and that it falls within a reasonable range \n",
    "#(e.g., between 1 and 120). Write a Python script to accomplish this:\n",
    "#Prompt the user to enter their age.\n",
    "#Use input validation to ensure the entered value is a positive integer. \n",
    "#If the input is not a positive integer, display an error message and prompt the user to enter their age again\n",
    "#until valid input is provided.\n",
    "#After valid input is received, check if the age is within the reasonable range of 1 to 120. \n",
    "#If it's not within this range, display an error message and prompt the user to enter their age again \n",
    "#until a valid age within the range is provided.\n",
    "#Once valid input is obtained, display a message confirming the user's age.\n",
    "#Implement appropriate error-handling and input validation techniques to ensure the program behaves correctly even\n",
    "#when the user provides unexpected input."
   ]
  },
  {
   "cell_type": "code",
   "execution_count": null,
   "id": "866c51c0",
   "metadata": {},
   "outputs": [],
   "source": []
  },
  {
   "cell_type": "code",
   "execution_count": 74,
   "id": "59c835b6",
   "metadata": {},
   "outputs": [
    {
     "name": "stdout",
     "output_type": "stream",
     "text": [
      "How many years old are you?\n",
      "0\n",
      "I have doubts you are that old. Try again.\n",
      "How many years old are you?\n",
      "1\n",
      "Seems legit.\n"
     ]
    }
   ],
   "source": [
    "#Prompt user for age\n",
    "\n",
    "age_input = int(input('How many years old are you?\\n'))\n",
    "\n",
    "#Check if it's in reason by running a loop through repeat inputs that don't fit the criteria.\n",
    "\n",
    "while age_input >= 120 or age_input <= 0:\n",
    "    print('I have doubts you are that old. Try again.')\n",
    "    age_input = int(input('How many years old are you?\\n'))\n",
    "    if age_input <= 120 or age_input <= 0:\n",
    "        break\n",
    "\n",
    "print('Seems legit.')"
   ]
  },
  {
   "cell_type": "code",
   "execution_count": null,
   "id": "6b0c234a",
   "metadata": {},
   "outputs": [],
   "source": [
    "#Problem 7: You are tasked with writing a Python program that calculates the factorial of a positive integer. \n",
    "#However, you need to ensure that the program can handle large numbers and protect against overflow errors. \n",
    "#Here are the specific requirements:\n",
    "#Prompt the user to enter a positive integer.\n",
    "#Use input validation to ensure the entered value is a positive integer. \n",
    "#If the input is not a positive integer, display an error message and prompt the user to enter a valid input.\n",
    "#Implement a function named calculate_factorial that calculates the factorial of the entered integer. \n",
    "#Ensure that your function can handle large factorials without causing overflow errors.\n",
    "#Use a loop to calculate the factorial iteratively, rather than using recursive functions to avoid potential stack overflow.\n",
    "#If the result of the factorial exceeds a certain threshold (e.g., 10^308), \n",
    "#display an error message indicating that the result is too large to calculate.\n",
    "#If the calculation is successful, display the factorial of the entered integer.\n",
    "#Implement appropriate error-handling and input validation techniques to ensure the program behaves correctly \n",
    "#even when the user provides unexpected input."
   ]
  },
  {
   "cell_type": "code",
   "execution_count": 110,
   "id": "f0f3a206",
   "metadata": {},
   "outputs": [
    {
     "name": "stdout",
     "output_type": "stream",
     "text": [
      "What number do you want the factorial of?\n",
      "-1\n",
      "Cannot calculate negative or zero factorials. Input a positive number.\n",
      "What number do you want the factorial of?\n",
      "23\n",
      "This factorial is too large for processing. Lets start over.\n",
      "\n",
      "What number do you want the factorial of?\n",
      "22\n",
      "The factorial of your input is: 51090942171709440000\n"
     ]
    }
   ],
   "source": [
    "#10^308 seems a little high to see what's going on. Let's cap it off at 10^20.\n",
    "\n",
    "#Define a factorial function\n",
    "def calculate_factorial(number):\n",
    "    factorial_result = 1\n",
    "    for i in range(1,number):\n",
    "        factorial_result = factorial_result * i\n",
    "    else:\n",
    "        return factorial_result\n",
    "\n",
    "#Ask for input. Should only be integers, so errors for text or floats.\n",
    "number = int(input('What number do you want the factorial of?\\n'))\n",
    "#Integers should not be 0 or negative.\n",
    "if number < 1:\n",
    "    print('Cannot calculate negative or zero factorials. Input a positive number.')\n",
    "    number = int(input('What number do you want the factorial of?\\n'))\n",
    "\n",
    "#Now we run a loop to prompt the user to input factorials that are below our overflow limit.\n",
    "while calculate_factorial(number) > 10**20 :\n",
    "        print('This factorial is too large for processing. Lets start over.\\n')\n",
    "        number = int(input('What number do you want the factorial of?\\n'))\n",
    "        if number < 1:\n",
    "            print('Cannot calculate negative or zero factorials. Input a positive number.')\n",
    "            number = int(input('What number do you want the factorial of?\\n'))\n",
    "\n",
    "result = calculate_factorial(number)\n",
    "print('The factorial of your input is:',result)"
   ]
  },
  {
   "cell_type": "code",
   "execution_count": null,
   "id": "366990db",
   "metadata": {},
   "outputs": [],
   "source": []
  },
  {
   "cell_type": "code",
   "execution_count": null,
   "id": "aeccf9ad",
   "metadata": {},
   "outputs": [],
   "source": []
  }
 ],
 "metadata": {
  "kernelspec": {
   "display_name": "Python 3 (ipykernel)",
   "language": "python",
   "name": "python3"
  },
  "language_info": {
   "codemirror_mode": {
    "name": "ipython",
    "version": 3
   },
   "file_extension": ".py",
   "mimetype": "text/x-python",
   "name": "python",
   "nbconvert_exporter": "python",
   "pygments_lexer": "ipython3",
   "version": "3.10.9"
  }
 },
 "nbformat": 4,
 "nbformat_minor": 5
}
