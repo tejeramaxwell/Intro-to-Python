{
 "cells": [
  {
   "cell_type": "code",
   "execution_count": 4,
   "id": "2818b63c",
   "metadata": {},
   "outputs": [
    {
     "name": "stdout",
     "output_type": "stream",
     "text": [
      "Please provide the radius of the circle you are trying to calculate the area of\n",
      "5\n"
     ]
    }
   ],
   "source": [
    "#Practice Problem 1: Area of a Circle\n",
    "#Write a Python program that defines a function to calculate the area of a circle given its radius. \n",
    "#The formula for the area of a circle is π * r^2, where π is approximately 3.14159 and r is the radius. \n",
    "#Prompt the user to input the radius, and then use the function to calculate and display the area.\n",
    "\n",
    "radius = input('Please provide the radius of the circle you are trying to calculate the area of\\n') #gather input"
   ]
  },
  {
   "cell_type": "code",
   "execution_count": 5,
   "id": "f5a76668",
   "metadata": {},
   "outputs": [
    {
     "name": "stdout",
     "output_type": "stream",
     "text": [
      "The area of the circle is 78.53975\n"
     ]
    }
   ],
   "source": [
    "def area_circle(radius) : #define function\n",
    "    area = (float(radius)**2)*3.14159 #run equation on input\n",
    "    print('The area of the circle is',area) #show the result\n",
    "    \n",
    "area_circle(radius) #test the function in isolation"
   ]
  },
  {
   "cell_type": "code",
   "execution_count": 6,
   "id": "f418f393",
   "metadata": {},
   "outputs": [
    {
     "name": "stdout",
     "output_type": "stream",
     "text": [
      "The area of the circle is 28.27431\n"
     ]
    }
   ],
   "source": [
    "#Testing the function in isolation to be sure\n",
    "radius = 3\n",
    "area_circle(radius)"
   ]
  },
  {
   "cell_type": "code",
   "execution_count": 6,
   "id": "edb9a111",
   "metadata": {},
   "outputs": [],
   "source": [
    "#I think there may be another way to do this such that you could input a float value instead of defining the radius variable"
   ]
  },
  {
   "cell_type": "code",
   "execution_count": null,
   "id": "26c82e2f",
   "metadata": {},
   "outputs": [],
   "source": [
    "#separately as above, but this works for now."
   ]
  },
  {
   "cell_type": "code",
   "execution_count": 9,
   "id": "2f4d591b",
   "metadata": {},
   "outputs": [
    {
     "name": "stdout",
     "output_type": "stream",
     "text": [
      "Please provide the number you would like to determine is even or odd\n",
      "9\n"
     ]
    }
   ],
   "source": [
    "#Practice Problem 2: Even or Odd\n",
    "#Create a Python program that defines a function to determine whether a given integer is even or odd. \n",
    "#The function should take an integer as an argument and return a string \"Even\" if the number is even and \"Odd\" if it's odd. \n",
    "#Prompt the user to input an integer, and then use the function to determine and display whether the input number is even or odd.\n",
    "\n",
    "number = input('Please provide the number you would like to determine is even or odd\\n') #gather input"
   ]
  },
  {
   "cell_type": "code",
   "execution_count": 10,
   "id": "77cf7a0c",
   "metadata": {},
   "outputs": [
    {
     "name": "stdout",
     "output_type": "stream",
     "text": [
      "Odd\n"
     ]
    }
   ],
   "source": [
    "def even_odd_det(number): #define function\n",
    "    if int(number) % 2 == 0 : #divide by two and if the remainder is zero\n",
    "        print('Even') #show that the number is even\n",
    "    else :\n",
    "        print('Odd') #otherwise it's odd\n",
    "even_odd_det(number) #test function"
   ]
  },
  {
   "cell_type": "code",
   "execution_count": 23,
   "id": "aa59f1fc",
   "metadata": {},
   "outputs": [
    {
     "name": "stdout",
     "output_type": "stream",
     "text": [
      "1\n"
     ]
    }
   ],
   "source": [
    "#Testing function in isolation"
   ]
  },
  {
   "cell_type": "code",
   "execution_count": 12,
   "id": "2de119df",
   "metadata": {},
   "outputs": [
    {
     "name": "stdout",
     "output_type": "stream",
     "text": [
      "Even\n"
     ]
    }
   ],
   "source": [
    "even_odd_det(2)"
   ]
  },
  {
   "cell_type": "code",
   "execution_count": 25,
   "id": "8266b706",
   "metadata": {},
   "outputs": [
    {
     "name": "stdout",
     "output_type": "stream",
     "text": [
      "Odd\n"
     ]
    }
   ],
   "source": [
    "#Practice Problem 3: Palindrome Checker\n",
    "#Write a Python program that checks if a given word or phrase is a palindrome. \n",
    "#A palindrome is a word, phrase, or sequence of characters that reads the same forwards and backwards (ignoring spaces and capitalization). \n",
    "#Create a function that takes a string as input, removes spaces, converts it to lowercase, and then checks if it's a palindrome. \n",
    "#Return True if it's a palindrome, and False otherwise."
   ]
  },
  {
   "cell_type": "code",
   "execution_count": 13,
   "id": "7d23e184",
   "metadata": {},
   "outputs": [
    {
     "name": "stdout",
     "output_type": "stream",
     "text": [
      "What word are you checking to see is a palindrome?\n",
      "Noon\n"
     ]
    }
   ],
   "source": [
    "pali = input('What word are you checking to see is a palindrome?\\n')"
   ]
  },
  {
   "cell_type": "code",
   "execution_count": null,
   "id": "99172681",
   "metadata": {},
   "outputs": [],
   "source": []
  },
  {
   "cell_type": "code",
   "execution_count": 14,
   "id": "b914d984",
   "metadata": {},
   "outputs": [],
   "source": [
    "def pali_check(pali):\n",
    "    pali_split = pali.split() #split phrase into list\n",
    "    pali_concat = ''.join(map(str, pali_split)) #merges to single string\n",
    "    pali_simple = pali_concat.lower() #converts to lower case\n",
    "    reverse_pali_simple = pali_simple[::-1] #resequences string backwards based on index orientation\n",
    "    if reverse_pali_simple == pali_simple :\n",
    "        print('True')\n",
    "    else:\n",
    "        print('False')"
   ]
  },
  {
   "cell_type": "code",
   "execution_count": 15,
   "id": "f2dc8eef",
   "metadata": {},
   "outputs": [
    {
     "name": "stdout",
     "output_type": "stream",
     "text": [
      "True\n"
     ]
    }
   ],
   "source": [
    "pali_check(pali)"
   ]
  },
  {
   "cell_type": "code",
   "execution_count": 16,
   "id": "421b9579",
   "metadata": {},
   "outputs": [
    {
     "name": "stdout",
     "output_type": "stream",
     "text": [
      "What string would you like to reverse?\n",
      "hello\n"
     ]
    }
   ],
   "source": [
    "#Practice Problem 4: String Reversal\n",
    "#Create a Python program that takes a string as input and reverses it. \n",
    "#Write a function that accepts a string and returns a new string with the characters in reverse order. \n",
    "#For example, if the input is \"hello,\" the function should return \"olleh.\"\n",
    "\n",
    "word = input('What string would you like to reverse?\\n')"
   ]
  },
  {
   "cell_type": "code",
   "execution_count": 17,
   "id": "c4271733",
   "metadata": {},
   "outputs": [],
   "source": [
    "def str_rev(word):\n",
    "    str_len = len(word) #counts characters in string\n",
    "    slice_str = word[str_len::-1] #creates a slice starting from the maximum index number and counts backwards\n",
    "    print(slice_str)\n"
   ]
  },
  {
   "cell_type": "code",
   "execution_count": 18,
   "id": "2aecd232",
   "metadata": {},
   "outputs": [
    {
     "name": "stdout",
     "output_type": "stream",
     "text": [
      "olleh\n"
     ]
    }
   ],
   "source": [
    "str_rev(word)"
   ]
  },
  {
   "cell_type": "code",
   "execution_count": null,
   "id": "8e5c9ef5",
   "metadata": {},
   "outputs": [],
   "source": [
    "#Practice Problem 5: List Sum and Average\n",
    "#Write a Python program that calculates the sum and average of a list of numbers. \n",
    "#Create a function that takes a list of numbers as input and returns both the sum and the average of the numbers in the list.\n",
    "#Prompt the user to input a list of numbers (you can ask them to separate the numbers by spaces),\n",
    "#convert the input into a list, and then use your function to calculate and display the sum and average."
   ]
  },
  {
   "cell_type": "code",
   "execution_count": 19,
   "id": "1e5d1cc8",
   "metadata": {},
   "outputs": [
    {
     "name": "stdout",
     "output_type": "stream",
     "text": [
      "Please input numbers you would like to analyze separated by spaces\n",
      "1 2 3 4 5\n"
     ]
    }
   ],
   "source": [
    "#Get input from user\n",
    "numbers = input('Please input numbers you would like to analyze separated by spaces\\n')"
   ]
  },
  {
   "cell_type": "code",
   "execution_count": 20,
   "id": "cf859b6f",
   "metadata": {},
   "outputs": [
    {
     "name": "stdout",
     "output_type": "stream",
     "text": [
      "The sum of your numbers is 15.0\n",
      "The average of your numbers is 3.0\n"
     ]
    }
   ],
   "source": [
    "def average_sum(numbers) : #define function\n",
    "    num_list = numbers.split() #break input string into list of different string numbers\n",
    "    for i in range(0,len(num_list)) : #convert string numbers into a float\n",
    "        num_list[i] = float(num_list[i])\n",
    "    count = 0 #start count of how many numbers are in the list\n",
    "    for num in num_list : #count the numbers\n",
    "        count = count + 1\n",
    "    sum_numbers = sum(num_list) #sum the numbers in list together\n",
    "    avg_numbers = sum_numbers / count #divide by the count to get the average\n",
    "    print('The sum of your numbers is',sum_numbers)\n",
    "    print('The average of your numbers is',avg_numbers)\n",
    "    \n",
    "average_sum(numbers)"
   ]
  },
  {
   "cell_type": "code",
   "execution_count": 21,
   "id": "bdfce317",
   "metadata": {},
   "outputs": [],
   "source": [
    "#Practice Problem 6:\n",
    "#Create a Python program that reverses a list of elements. \n",
    "#Write a function that takes a list as input and returns a new list with the elements in reverse order. \n",
    "#Prompt the user to input a list of elements (e.g., words or numbers), convert the input into a list, \n",
    "#and then use your function to reverse the list and display the reversed list."
   ]
  },
  {
   "cell_type": "code",
   "execution_count": 22,
   "id": "d3b52a81",
   "metadata": {},
   "outputs": [
    {
     "name": "stdout",
     "output_type": "stream",
     "text": [
      "Please enter a lit of elements\n",
      "check check 1 2 3\n"
     ]
    }
   ],
   "source": [
    "elements = input('Please enter a lit of elements\\n') #collect input"
   ]
  },
  {
   "cell_type": "code",
   "execution_count": 23,
   "id": "f95baf3e",
   "metadata": {},
   "outputs": [
    {
     "name": "stdout",
     "output_type": "stream",
     "text": [
      "['3', '2', '1', 'check', 'check']\n"
     ]
    }
   ],
   "source": [
    "def elements_reverse(elements) : #define function\n",
    "    elements_list = elements.split() #convert string of elements to list\n",
    "    reverse_elements_list = elements_list[len(elements_list)::-1] #reverse list using length of list\n",
    "    print(reverse_elements_list)\n",
    "    \n",
    "elements_reverse(elements)"
   ]
  },
  {
   "cell_type": "code",
   "execution_count": 32,
   "id": "4040bada",
   "metadata": {},
   "outputs": [],
   "source": [
    "#Practice Problem 7: Word Frequency Counter\n",
    "#Write a Python program that counts the frequency of words in a given text. \n",
    "#Create a function that takes a text string as input, processes it to split it into words, \n",
    "#and then builds a dictionary where the keys are words, and the values are the frequencies of those words in the text. \n",
    "#Prompt the user to input a text string, use the function to analyze it, and then display the word frequencies as a dictionary.\n",
    "\n"
   ]
  },
  {
   "cell_type": "code",
   "execution_count": null,
   "id": "8751ddbe",
   "metadata": {},
   "outputs": [],
   "source": []
  },
  {
   "cell_type": "code",
   "execution_count": 35,
   "id": "f3dcbc6a",
   "metadata": {},
   "outputs": [
    {
     "name": "stdout",
     "output_type": "stream",
     "text": [
      "Please type in a sentence to count words from:\n",
      "we will we will rock you\n",
      "Word Count: {'we': 2, 'will': 2, 'rock': 1, 'you': 1}\n"
     ]
    }
   ],
   "source": [
    "counts = dict()\n",
    "def sentence_count(sentence) : #define function\n",
    "    sentence = input('Please type in a sentence to count words from:\\n')\n",
    "    words = sentence.split() #convert string to list\n",
    "    for word in words:\n",
    "        counts[word] = counts.get(word,0) + 1 #add to the counts in the dictionary\n",
    "    print('Word Count:',counts) #print the dictionary of keys(words) and associated counts\n",
    "    counts.clear() #clear dictionary for next use\n",
    "\n",
    "sentence_count(sentence) #run the function"
   ]
  },
  {
   "cell_type": "code",
   "execution_count": 126,
   "id": "10825ee2",
   "metadata": {},
   "outputs": [],
   "source": [
    "#Practice problem 8\n",
    "#Create a Python program that stores and manages movie ratings using a dictionary. \n",
    "#Implement functions to add new movie ratings, update existing ratings, view ratings for a specific movie, and list all movies and their ratings.\n",
    "#The program should use a dictionary where movie titles are the keys, and the values are the corresponding ratings (e.g., on a scale of 1 to 5).\n",
    "#You can prompt the user to input movie titles and ratings, and use the dictionary functions to store and retrieve the information as needed. \n",
    "#This problem allows you to practice using dictionaries to store and manipulate data."
   ]
  },
  {
   "cell_type": "code",
   "execution_count": 36,
   "id": "2197d2d6",
   "metadata": {},
   "outputs": [
    {
     "name": "stdout",
     "output_type": "stream",
     "text": [
      "Please input movies and ratings until you have entered all your movies and ratings.\n"
     ]
    }
   ],
   "source": [
    "print('Please input movies and ratings until you have entered all your movies and ratings.') #instructions"
   ]
  },
  {
   "cell_type": "code",
   "execution_count": 37,
   "id": "6ef1ab14",
   "metadata": {},
   "outputs": [
    {
     "name": "stdout",
     "output_type": "stream",
     "text": [
      "Enter \"stop\" for the name of movie when you are done entering movies.\n",
      "Name of movie:\n"
     ]
    }
   ],
   "source": [
    "print('Enter \"stop\" for the name of movie when you are done entering movies.') #instructions\n",
    "print('Name of movie:\\n') #instructions"
   ]
  },
  {
   "cell_type": "code",
   "execution_count": 42,
   "id": "f8e54fed",
   "metadata": {},
   "outputs": [
    {
     "name": "stdout",
     "output_type": "stream",
     "text": [
      "forest gump\n",
      "Rating of movie:\n",
      "\n",
      "5\n",
      "Name of movie:\n",
      "\n",
      "lion king\n",
      "Rating of movie:\n",
      "\n",
      "5\n",
      "Name of movie:\n",
      "\n",
      "stop\n",
      "Your movie ratings are: {'forest gump': 5, 'lion king': 5}\n"
     ]
    }
   ],
   "source": [
    "movie_ratings=dict() #establish dictionary\n",
    "movie=input() #prompt first movie name input before looping\n",
    "while movie!='stop' : #input to stop looping\n",
    "    print('Rating of movie:\\n') #prompt for movie rating\n",
    "    rating=int(input())\n",
    "    movie_ratings.update({movie:rating}) #add the pairs of data to the dictionary\n",
    "    print('Name of movie:\\n') \n",
    "    movie=input() #reset movie name\n",
    "    \n",
    "print('Your movie ratings are:',movie_ratings) #show results of dictionary"
   ]
  },
  {
   "cell_type": "code",
   "execution_count": null,
   "id": "035d3b60",
   "metadata": {},
   "outputs": [],
   "source": [
    "#Practice Problem 9: Tuple Swapping\n",
    "#Write a Python program that swaps the values of two variables using tuples. \n",
    "#Create a function that takes two variables as input, packs them into a tuple, swaps their values, and then returns the updated values. \n",
    "#Prompt the user to input two values, call the function to swap them, and display the swapped values."
   ]
  },
  {
   "cell_type": "code",
   "execution_count": 60,
   "id": "3e12c2f7",
   "metadata": {},
   "outputs": [
    {
     "name": "stdout",
     "output_type": "stream",
     "text": [
      "Input your first variable:\n",
      "5\n"
     ]
    }
   ],
   "source": [
    "x = input('Input your first variable:\\n') #gather first input for tuple"
   ]
  },
  {
   "cell_type": "code",
   "execution_count": 61,
   "id": "614dcec8",
   "metadata": {},
   "outputs": [
    {
     "name": "stdout",
     "output_type": "stream",
     "text": [
      "Input your second variable:\n",
      "10\n"
     ]
    }
   ],
   "source": [
    "y = input('Input your second variable:\\n') #gather second input for tuple"
   ]
  },
  {
   "cell_type": "code",
   "execution_count": 64,
   "id": "9347a3bc",
   "metadata": {},
   "outputs": [
    {
     "name": "stdout",
     "output_type": "stream",
     "text": [
      "This is your starting combination of variables: ('5', '10')\n",
      "Here they are, reversed: ('10', '5')\n"
     ]
    }
   ],
   "source": [
    "tup = (x,y) #define tuple\n",
    "print('This is your starting combination of variables:',tup) #show starting value\n",
    "tup = (y,x) #flip tuple\n",
    "print('Here they are, reversed:',tup) #show flipped tuple"
   ]
  },
  {
   "cell_type": "code",
   "execution_count": 65,
   "id": "0a6f31e9",
   "metadata": {},
   "outputs": [],
   "source": [
    "#Practice Problem 10: Multiple Returns\n",
    "#Create a Python program that calculates both the area and perimeter of a rectangle using a tuple to return multiple values.\n",
    "#Write a function that takes the length and width of a rectangle as input, calculates the area and perimeter, \n",
    "#and returns them as a tuple. Prompt the user to input the length and width, call the function to calculate the area and\n",
    "#perimeter, and display the results."
   ]
  },
  {
   "cell_type": "code",
   "execution_count": 80,
   "id": "91264efe",
   "metadata": {
    "scrolled": true
   },
   "outputs": [
    {
     "name": "stdout",
     "output_type": "stream",
     "text": [
      "Please input the length of the rectangle:\n",
      "10\n",
      "Please input the width of the rectangle:\n",
      "5\n",
      "Dimensions = (10.0, 5.0)\n",
      "Area =  50.0\n",
      "Perimeter = 30.0\n"
     ]
    }
   ],
   "source": [
    "length = float(input('Please input the length of the rectangle:\\n')) #gather first input\n",
    "width = float(input('Please input the width of the rectangle:\\n')) #gather second input\n",
    "dimensions = (length,width) #define tuple\n",
    "print('Dimensions =',dimensions) #show tuple\n",
    "area = dimensions[0]*dimensions[1] #calculate area based on tuple\n",
    "print('Area = ',area) #show area\n",
    "perimeter = (2*dimensions[0]) + (2*dimensions[1]) #calculate perimeter based on tuple\n",
    "print('Perimeter =',perimeter) #show perimeter"
   ]
  }
 ],
 "metadata": {
  "kernelspec": {
   "display_name": "Python 3 (ipykernel)",
   "language": "python",
   "name": "python3"
  },
  "language_info": {
   "codemirror_mode": {
    "name": "ipython",
    "version": 3
   },
   "file_extension": ".py",
   "mimetype": "text/x-python",
   "name": "python",
   "nbconvert_exporter": "python",
   "pygments_lexer": "ipython3",
   "version": "3.10.9"
  }
 },
 "nbformat": 4,
 "nbformat_minor": 5
}
