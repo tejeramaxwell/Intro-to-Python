{
 "cells": [
  {
   "cell_type": "code",
   "execution_count": null,
   "id": "feb7b97f",
   "metadata": {},
   "outputs": [],
   "source": [
    "#You have been given a text file named \"input.txt\" containing a list of names, one name per line. \n",
    "#Your task is to write a Python program that reads the contents of this file and performs the following operations:"
   ]
  },
  {
   "cell_type": "code",
   "execution_count": null,
   "id": "6a190693",
   "metadata": {},
   "outputs": [],
   "source": [
    "#Question 1: How many names are there in the file \"input.txt\"?"
   ]
  },
  {
   "cell_type": "code",
   "execution_count": 9,
   "id": "de0be6f9",
   "metadata": {},
   "outputs": [
    {
     "name": "stdout",
     "output_type": "stream",
     "text": [
      "Name Count: 8\n"
     ]
    }
   ],
   "source": [
    "#Renamed file from \"input.txt\" to \"names.txt\"\n",
    "names = open('names.txt') #opening file and converting to variable\n",
    "count = 0 #setting the original count of lines\n",
    "for line in names:\n",
    "    count = count + 1 #counts each line before reiterating\n",
    "print('Name Count:',count) #prints the final count"
   ]
  },
  {
   "cell_type": "code",
   "execution_count": 34,
   "id": "a391d803",
   "metadata": {},
   "outputs": [
    {
     "name": "stdout",
     "output_type": "stream",
     "text": [
      "Longest Name =  Charlie\n",
      "Longest Name Character Count = 7 characters\n"
     ]
    }
   ],
   "source": [
    "#Question 2: What is the longest name in the list from \"names.txt\"?\n",
    "names = open('names.txt','r') #opening file and converting to variable\n",
    "max_count = 0 #setting original count for characters\n",
    "max_name = '' #setting the original name of maximum\n",
    "for line in names : #iterating through lines of file\n",
    "    name = line.rstrip()\n",
    "    character_count = len(name) #counting characters in the file\n",
    "    if character_count > max_count: #if the character count of the lines is greater than the prior maximum count, it becomes the new maximum\n",
    "        max_count = character_count #the new maximum becomes the character count\n",
    "        max_name = str(name) #the new maximum name becomes the name\n",
    "\n",
    "print('Longest Name = ',max_name)\n",
    "print('Longest Name Character Count =',max_count,'characters')\n",
    "\n",
    "#This works, but it bothers me that it doesn't use the 'max' function. That sounds more intuitive."
   ]
  },
  {
   "cell_type": "code",
   "execution_count": 39,
   "id": "9061d447",
   "metadata": {},
   "outputs": [
    {
     "name": "stdout",
     "output_type": "stream",
     "text": [
      "Names with minimum value are: ['Bob', 'Eve'] With a character count of: 3\n"
     ]
    }
   ],
   "source": [
    "#Question 3: What is the shortest name in the list from \"names.txt\"?\n",
    "\n",
    "#Let's try this one with the min function and a dictionary to track our data.\n",
    "\n",
    "names = open('names.txt','r') #converts text file to string\n",
    "names_dict = dict() #starts a dictonary\n",
    "for line in names : #iterates through lines\n",
    "    name = line.rstrip() #drops line separator character\n",
    "    name_len = len(name) #counts the length of the line / name\n",
    "    names_dict[name] = name_len #adds the name and the count to the dictionary\n",
    "\n",
    "min_name_count = min(names_dict.values()) #identifies the minimum character count in dictionary\n",
    "min_name_str = [key for key in names_dict if names_dict[key] == min_name_count] \n",
    "#identifies the names in the dictionary with a character count equal to the minimum character count\n",
    "print(\"Names with minimum value are:\",min_name_str,\"With a character count of:\",min_name_count)\n",
    "#prints the keys with a character count equal to the minimum character count and the minimum character count\n"
   ]
  },
  {
   "cell_type": "code",
   "execution_count": 43,
   "id": "ee76af07",
   "metadata": {},
   "outputs": [],
   "source": [
    "#Question 4: What is the average length (rounded to two decimal places) of the names in the list from \"names.txt\"?\n",
    "#Now that we have a dictionary, this should be easier as we can just substitute min() for mean()\n",
    "#We need to import the mean function in statistics first\n",
    "\n",
    "import statistics"
   ]
  },
  {
   "cell_type": "code",
   "execution_count": 44,
   "id": "704fb8fc",
   "metadata": {},
   "outputs": [
    {
     "ename": "NameError",
     "evalue": "name 'mean' is not defined",
     "output_type": "error",
     "traceback": [
      "\u001b[1;31m---------------------------------------------------------------------------\u001b[0m",
      "\u001b[1;31mNameError\u001b[0m                                 Traceback (most recent call last)",
      "Cell \u001b[1;32mIn[44], line 8\u001b[0m\n\u001b[0;32m      5\u001b[0m     name_len \u001b[38;5;241m=\u001b[39m \u001b[38;5;28mlen\u001b[39m(name) \u001b[38;5;66;03m#counts the length of the line / name\u001b[39;00m\n\u001b[0;32m      6\u001b[0m     names_dict[name] \u001b[38;5;241m=\u001b[39m name_len \u001b[38;5;66;03m#adds the name and the count to the dictionary\u001b[39;00m\n\u001b[1;32m----> 8\u001b[0m mean_name_count \u001b[38;5;241m=\u001b[39m \u001b[43mmean\u001b[49m(names_dict\u001b[38;5;241m.\u001b[39mvalues()) \u001b[38;5;66;03m#identifies the mean character count in dictionary\u001b[39;00m\n\u001b[0;32m      9\u001b[0m \u001b[38;5;28mprint\u001b[39m(\u001b[38;5;124m\"\u001b[39m\u001b[38;5;124mThe average length of names is:\u001b[39m\u001b[38;5;124m\"\u001b[39m,mean_name_count)\n",
      "\u001b[1;31mNameError\u001b[0m: name 'mean' is not defined"
     ]
    }
   ],
   "source": [
    "names = open('names.txt','r') #converts text file to string\n",
    "names_dict = dict() #starts a dictonary\n",
    "for line in names : #iterates through lines\n",
    "    name = line.rstrip() #drops line separator character\n",
    "    name_len = len(name) #counts the length of the line / name\n",
    "    names_dict[name] = name_len #adds the name and the count to the dictionary\n",
    "\n",
    "mean_name_count = mean(names_dict.values()) #identifies the mean character count in dictionary\n",
    "print(\"The average length of names is:\",mean_name_count)"
   ]
  },
  {
   "cell_type": "code",
   "execution_count": null,
   "id": "a7bff37a",
   "metadata": {},
   "outputs": [],
   "source": []
  }
 ],
 "metadata": {
  "kernelspec": {
   "display_name": "Python 3 (ipykernel)",
   "language": "python",
   "name": "python3"
  },
  "language_info": {
   "codemirror_mode": {
    "name": "ipython",
    "version": 3
   },
   "file_extension": ".py",
   "mimetype": "text/x-python",
   "name": "python",
   "nbconvert_exporter": "python",
   "pygments_lexer": "ipython3",
   "version": "3.10.9"
  }
 },
 "nbformat": 4,
 "nbformat_minor": 5
}
