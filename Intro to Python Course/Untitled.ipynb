{
 "cells": [
  {
   "cell_type": "code",
   "execution_count": 1,
   "id": "e3873346",
   "metadata": {},
   "outputs": [
    {
     "name": "stdout",
     "output_type": "stream",
     "text": [
      "What temp is it in celsius?\n",
      "10\n"
     ]
    }
   ],
   "source": [
    "#Practice Problem 1: Temperature Conversion\n",
    "#Create a Python program that prompts the user to enter a temperature in Celsius and then calculates and displays the equivalent temperature in Fahrenheit. \n",
    "#You'll need to use variables to store the input temperature, the conversion formula, and the calculated Fahrenheit temperature.\n",
    "celsius = input('What temp is it in celsius?\\n')\n",
    "#The await command is needed for the Jupyter environment I am running my notebook in. It seems to help Jupyter/Python remember the input for the next cell.\n",
    "#I think it's because the cells of code run asychronously so the await command tells Jupyter/Python to await the input and store the input for the next cell."
   ]
  },
  {
   "cell_type": "code",
   "execution_count": 2,
   "id": "0ea3f6ea",
   "metadata": {},
   "outputs": [
    {
     "name": "stdout",
     "output_type": "stream",
     "text": [
      "That is equal to the following temperature in farenheit:\n",
      "50.0\n"
     ]
    }
   ],
   "source": [
    "farenheit = float(celsius)*1.8+32\n",
    "print('That is equal to the following temperature in farenheit:')\n",
    "print(farenheit)"
   ]
  },
  {
   "cell_type": "code",
   "execution_count": null,
   "id": "06255749",
   "metadata": {},
   "outputs": [],
   "source": [
    "#Practice Problem 2: Simple Interest Calculator\n",
    "#Write a Python program that calculates the simple interest for a given principal amount, interest rate, and time period. \n",
    "#Prompt the user to enter these values and then calculate and display the resulting interest. \n",
    "#Use variables to store the principal amount, interest rate, time, and the calculated simple interest."
   ]
  },
  {
   "cell_type": "code",
   "execution_count": 3,
   "id": "bb535954",
   "metadata": {},
   "outputs": [
    {
     "name": "stdout",
     "output_type": "stream",
     "text": [
      "What is the original amount borrowed? Do not include dollar or currency symbols.\n",
      "1000\n"
     ]
    }
   ],
   "source": [
    "principal = input('What is the original amount borrowed? Do not include dollar or currency symbols.\\n')"
   ]
  },
  {
   "cell_type": "code",
   "execution_count": 4,
   "id": "18fac290",
   "metadata": {},
   "outputs": [
    {
     "name": "stdout",
     "output_type": "stream",
     "text": [
      "What interest rate did you borrow that amount at? Enter as a float, not as a percent. I.e. 2.1 not 2.1%\n",
      "2.5\n"
     ]
    }
   ],
   "source": [
    "interest_rate = input('What interest rate did you borrow that amount at? Enter as a float, not as a percent. I.e. 2.1 not 2.1%\\n')"
   ]
  },
  {
   "cell_type": "code",
   "execution_count": 5,
   "id": "8dc4ea00",
   "metadata": {},
   "outputs": [
    {
     "name": "stdout",
     "output_type": "stream",
     "text": [
      "How many years do you plan to take to pay it back?\n",
      "10\n"
     ]
    }
   ],
   "source": [
    "maturity = input('How many years do you plan to take to pay it back?\\n')"
   ]
  },
  {
   "cell_type": "code",
   "execution_count": 6,
   "id": "3eace0fc",
   "metadata": {},
   "outputs": [
    {
     "name": "stdout",
     "output_type": "stream",
     "text": [
      "You will pay the following amount in simple interest:\n",
      "25000.0\n"
     ]
    }
   ],
   "source": [
    "interest = float(principal)*float(interest_rate)*float(maturity)\n",
    "print('You will pay the following amount in simple interest:')\n",
    "print(interest)"
   ]
  },
  {
   "cell_type": "code",
   "execution_count": 7,
   "id": "36c6b508",
   "metadata": {},
   "outputs": [
    {
     "name": "stdout",
     "output_type": "stream",
     "text": [
      "You need to solve a quadratic equation. These take the form of ax^2 + bx + c = 0.\n",
      "What is your value for the \"a\" coefficient?\n",
      "10\n"
     ]
    }
   ],
   "source": [
    "#Practice Problem 1: Quadratic Equation Solver\n",
    "#Write a Python program that solves a quadratic equation of the form ax^2 + bx + c = 0 for given values of a, b, and c. \n",
    "#Prompt the user to enter the coefficients, and then calculate and display the solutions using the quadratic formula. \n",
    "#Make sure to handle cases where the discriminant is negative.\n",
    "\n",
    "print('You need to solve a quadratic equation. These take the form of ax^2 + bx + c = 0.')\n",
    "a_input = input('What is your value for the \"a\" coefficient?\\n')"
   ]
  },
  {
   "cell_type": "code",
   "execution_count": 8,
   "id": "089ff5c0",
   "metadata": {},
   "outputs": [
    {
     "name": "stdout",
     "output_type": "stream",
     "text": [
      "What is your value for the \"b\" coefficient?\n",
      "10\n"
     ]
    }
   ],
   "source": [
    "b_input = input('What is your value for the \"b\" coefficient?\\n')"
   ]
  },
  {
   "cell_type": "code",
   "execution_count": 9,
   "id": "94e8fcd5",
   "metadata": {},
   "outputs": [
    {
     "name": "stdout",
     "output_type": "stream",
     "text": [
      "What is your value for the \"c\" coefficient?\n",
      "10\n"
     ]
    }
   ],
   "source": [
    "c_input = input('What is your value for the \"c\" coefficient?\\n')"
   ]
  },
  {
   "cell_type": "code",
   "execution_count": 10,
   "id": "9e94e238",
   "metadata": {},
   "outputs": [
    {
     "name": "stdout",
     "output_type": "stream",
     "text": [
      "Your y-intercepts are:\n",
      "(-10+0.8660254037844387j) (-10+0.8660254037844387j)\n"
     ]
    }
   ],
   "source": [
    "#Convert the inputs to floats to run through the calculation\n",
    "a = float(a_input)\n",
    "b = float(b_input)\n",
    "c = float(c_input)\n",
    "#Bifricate the calculation for the +/- component of the calculation\n",
    "x_pos_disc = (-b+(((b**2)-(4*a*c))**0.5)/(2*a))\n",
    "x_neg_disc = (-b+(((b**2)-(4*a*c))**0.5)/(2*a))\n",
    "print('Your y-intercepts are:')\n",
    "print(x_pos_disc,x_neg_disc)"
   ]
  },
  {
   "cell_type": "code",
   "execution_count": 11,
   "id": "425f9700",
   "metadata": {},
   "outputs": [
    {
     "name": "stdout",
     "output_type": "stream",
     "text": [
      "What number are you trying to find the factorial of?\n",
      "10\n"
     ]
    }
   ],
   "source": [
    "#Practice Problem 2: Factorial Calculator\n",
    "#Create a Python program that calculates the factorial of a given positive integer. \n",
    "#Prompt the user to input a number, and then calculate and display its factorial using a loop and variables. \n",
    "#Remember that the factorial of a number n is the product of all positive integers from 1 to n.\n",
    "\n",
    "#Identify what we want to find the factorial of:\n",
    "factorial_input = input('What number are you trying to find the factorial of?\\n')"
   ]
  },
  {
   "cell_type": "code",
   "execution_count": 12,
   "id": "0b4f0728",
   "metadata": {},
   "outputs": [],
   "source": [
    "#convert to integer for calculation\n",
    "n = int(factorial_input)\n",
    "#From here we're going to multiple numbers counting upward until we reach our desired factorial. \n",
    "#We need to start at 1, not 0. \n",
    "#Otherwise our final answer will always be 0.\n",
    "#Start at 1:\n",
    "output = 1\n",
    "#Now we count upwards using the for function and the range function.\n",
    "#The range function uses our factorial as an input to cut off our counting when it reaches the desired factorial.\n",
    "#The for function does the math we're asking Python to do for each whole number in the range.\n",
    "for i in range(1,n):\n",
    "    #Now for the actual math:\n",
    "    output = output*i"
   ]
  },
  {
   "cell_type": "code",
   "execution_count": 13,
   "id": "13fffe79",
   "metadata": {},
   "outputs": [
    {
     "name": "stdout",
     "output_type": "stream",
     "text": [
      "362880\n"
     ]
    }
   ],
   "source": [
    "print(output)"
   ]
  },
  {
   "cell_type": "code",
   "execution_count": 14,
   "id": "9cbdf6e4",
   "metadata": {},
   "outputs": [
    {
     "name": "stdout",
     "output_type": "stream",
     "text": [
      "What was the numerical grade you received?\n",
      "90\n"
     ]
    }
   ],
   "source": [
    "#Practice Problem 1: Grade Classifier\n",
    "#Write a Python program that takes a student's numerical grade as input and classifies it into a letter grade based on the following scale:\n",
    "#90 or above: A\n",
    "#80 to 89: B\n",
    "#70 to 79: C\n",
    "#60 to 69: D\n",
    "#Below 60: F\n",
    "#Prompt the user to enter the numerical grade, and then use if statements to determine and display the corresponding letter grade.\n",
    "\n",
    "#Prompt user for numerical grade\n",
    "grade_input = input('What was the numerical grade you received?\\n')"
   ]
  },
  {
   "cell_type": "code",
   "execution_count": 15,
   "id": "ac2bde38",
   "metadata": {},
   "outputs": [
    {
     "name": "stdout",
     "output_type": "stream",
     "text": [
      "You received the following letter grade:\n",
      "\n",
      "A\n"
     ]
    }
   ],
   "source": [
    "print('You received the following letter grade:\\n')\n",
    "#The following code converts the inputed value to a float for if statement calculations and assigns a letter grade accordingly.\n",
    "#It uses \"greater than or equal to\" and \"less than\" symbols because an 89.9 is still a B while a 90.0 is an A and so on.\n",
    "if float(grade_input)>=90:\n",
    "    print(\"A\")\n",
    "if float(grade_input)>=80 and float(grade_input)<90:\n",
    "    print(\"B\")\n",
    "if float(grade_input)>=70 and float(grade_input)<80:\n",
    "    print(\"C\")\n",
    "if float(grade_input)>=60 and float(grade_input)<70:\n",
    "    print(\"D\")\n",
    "if float(grade_input)<60:\n",
    "    print(\"F\")"
   ]
  },
  {
   "cell_type": "code",
   "execution_count": null,
   "id": "e4dab4f4",
   "metadata": {},
   "outputs": [],
   "source": [
    "#Practice Problem 2: Leap Year Checker\n",
    "#Create a Python program that determines whether a given year is a leap year or not. \n",
    "#Prompt the user to input a year, and then use if statements to check if the year is divisible by 4 (and not divisible by 100 unless also divisible by 400). \n",
    "#Display whether the year is a leap year or not based on the calculation.\n",
    "\n",
    "#Prompting the year\n",
    "year_input = input('What year would you like to determine is a leap year or not?\\n')"
   ]
  },
  {
   "cell_type": "code",
   "execution_count": null,
   "id": "a9debc88",
   "metadata": {},
   "outputs": [],
   "source": []
  }
 ],
 "metadata": {
  "kernelspec": {
   "display_name": "Python 3 (ipykernel)",
   "language": "python",
   "name": "python3"
  },
  "language_info": {
   "codemirror_mode": {
    "name": "ipython",
    "version": 3
   },
   "file_extension": ".py",
   "mimetype": "text/x-python",
   "name": "python",
   "nbconvert_exporter": "python",
   "pygments_lexer": "ipython3",
   "version": "3.10.9"
  }
 },
 "nbformat": 4,
 "nbformat_minor": 5
}
